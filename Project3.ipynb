{
 "cells": [
  {
   "cell_type": "markdown",
   "metadata": {},
   "source": [
    "PROJECT 3\n",
    "\n",
    "Part 1: Prediction quality vs feature selection"
   ]
  },
  {
   "cell_type": "code",
   "execution_count": 2,
   "metadata": {},
   "outputs": [],
   "source": [
    "from sklearn.linear_model import LassoCV, Lasso"
   ]
  },
  {
   "cell_type": "markdown",
   "metadata": {},
   "source": [
    "Hyperparameter $\\lambda$ are instead $\\alpha$ in LassoCV\n",
    "\n",
    "`alpha_` contains hyperparameter that achieved lowest MSE\n",
    "\n",
    "`alphas_` contains all tested hyperparameters\n",
    "\n",
    "Coeffs of `Lasso` can be found in `coef_`\n",
    "\n",
    "`mse_path_` a `(len(alphas_) x n_folds)` matrix storing test error on each fold\n",
    "\n",
    "Vectors **e** and **s** can easily be computed from `mse_path_`"
   ]
  },
  {
   "cell_type": "code",
   "execution_count": null,
   "metadata": {},
   "outputs": [],
   "source": [
    "# EXAMPLE CODE FROM THESIS\n",
    "\n",
    "cv_mean = np.mean(lasso.mse_path_, axis=1)\n",
    "cv_std = np.std(lasso.mse_path_, axis=1)\n",
    "idx_min_mean = np.argmin(cv_mean)\n",
    "idx_alpha = np.where(\n",
    "    (cv_mean <= cv_mean[idx_min_mean] + cv_std[idx_min_mean] / np.sqrt(n_folds)) &\n",
    "    (cv_mean >= cv_mean[idx_min_mean])\n",
    ")[0][0]\n",
    "alpha_1se = lasso.alphas_[idx_alpha]"
   ]
  }
 ],
 "metadata": {
  "interpreter": {
   "hash": "7607b69822a60cfb6d39c9978c1d6d27f9f06f78db96c1f1cc67f42375258bfb"
  },
  "kernelspec": {
   "display_name": "Python 3.10.4 64-bit",
   "language": "python",
   "name": "python3"
  },
  "language_info": {
   "codemirror_mode": {
    "name": "ipython",
    "version": 3
   },
   "file_extension": ".py",
   "mimetype": "text/x-python",
   "name": "python",
   "nbconvert_exporter": "python",
   "pygments_lexer": "ipython3",
   "version": "3.10.4"
  },
  "orig_nbformat": 4
 },
 "nbformat": 4,
 "nbformat_minor": 2
}
