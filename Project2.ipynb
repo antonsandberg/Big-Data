{
 "cells": [
  {
   "cell_type": "code",
   "execution_count": 35,
   "metadata": {},
   "outputs": [],
   "source": [
    "from sklearn.cluster import KMeans\n",
    "from sklearn.mixture import GaussianMixture\n",
    "from sklearn.feature_selection import VarianceThreshold\n",
    "import pandas as pd\n",
    "import matplotlib.pyplot as plt\n",
    "import seaborn as sns"
   ]
  },
  {
   "cell_type": "code",
   "execution_count": 18,
   "metadata": {},
   "outputs": [],
   "source": [
    "workload_data = pd.read_csv(index_col=0, filepath_or_buffer='data.csv')"
   ]
  },
  {
   "cell_type": "code",
   "execution_count": 40,
   "metadata": {},
   "outputs": [
    {
     "name": "stdout",
     "output_type": "stream",
     "text": [
      "          gene_0    gene_1    gene_2    gene_3     gene_4  gene_5    gene_6  \\\n",
      "sample_0     0.0  2.017209  3.265527  5.478487  10.431999     0.0  7.175175   \n",
      "sample_1     0.0  0.592732  1.588421  7.586157   9.623011     0.0  6.816049   \n",
      "sample_2     0.0  3.511759  4.327199  6.881787   9.870730     0.0  6.972130   \n",
      "sample_3     0.0  3.663618  4.507649  6.659068  10.196184     0.0  7.843375   \n",
      "sample_4     0.0  2.655741  2.821547  6.539454   9.738265     0.0  6.566967   \n",
      "\n",
      "            gene_7  gene_8  gene_9  ...  gene_20521  gene_20522  gene_20523  \\\n",
      "sample_0  0.591871     0.0     0.0  ...    4.926711    8.210257    9.723516   \n",
      "sample_1  0.000000     0.0     0.0  ...    4.593372    7.323865    9.740931   \n",
      "sample_2  0.452595     0.0     0.0  ...    5.125213    8.127123   10.908640   \n",
      "sample_3  0.434882     0.0     0.0  ...    6.076566    8.792959   10.141520   \n",
      "sample_4  0.360982     0.0     0.0  ...    5.996032    8.891425   10.373790   \n",
      "\n",
      "          gene_20524  gene_20525  gene_20526  gene_20527  gene_20528  \\\n",
      "sample_0    7.220030    9.119813   12.003135    9.650743    8.921326   \n",
      "sample_1    6.256586    8.381612   12.674552   10.517059    9.397854   \n",
      "sample_2    5.401607    9.911597    9.045255    9.788359   10.090470   \n",
      "sample_3    8.942805    9.601208   11.392682    9.694814    9.684365   \n",
      "sample_4    7.181162    9.846910   11.922439    9.217749    9.461191   \n",
      "\n",
      "          gene_20529  gene_20530  \n",
      "sample_0    5.286759         0.0  \n",
      "sample_1    2.094168         0.0  \n",
      "sample_2    1.683023         0.0  \n",
      "sample_3    3.292001         0.0  \n",
      "sample_4    5.110372         0.0  \n",
      "\n",
      "[5 rows x 20531 columns]\n",
      "Index(['gene_0', 'gene_1', 'gene_2', 'gene_3', 'gene_4', 'gene_5', 'gene_6',\n",
      "       'gene_7', 'gene_8', 'gene_9',\n",
      "       ...\n",
      "       'gene_20521', 'gene_20522', 'gene_20523', 'gene_20524', 'gene_20525',\n",
      "       'gene_20526', 'gene_20527', 'gene_20528', 'gene_20529', 'gene_20530'],\n",
      "      dtype='object', length=20531)\n"
     ]
    }
   ],
   "source": [
    "# Quick look at what we're working with\n",
    "print(workload_data.head())\n"
   ]
  },
  {
   "cell_type": "markdown",
   "metadata": {},
   "source": [
    "Q1.1 Task 1:\n",
    "- Are there missing values? Look on their website of the data to see how missing values are coded\n",
    "Answer: It says on the website that the missing values are \"N/A\", but there aren't any (which can be seen in the code below)\n",
    "- Compute the means and variances of the features (visualise in a histogram or with a kernel density estimate). Do they vary widely?\n",
    "Answer: They do vary quite a lot yes, however they bot vary in mean quite normally, and for variance quite logarithmic.\n",
    "- Are there constant features?\n",
    "Answer: There are 267 columns with a variance of 0 and 14944 columns with a variance of less than 2."
   ]
  },
  {
   "cell_type": "code",
   "execution_count": 62,
   "metadata": {},
   "outputs": [
    {
     "name": "stdout",
     "output_type": "stream",
     "text": [
      "Amount of columns with missing values: 0\n",
      "Number of columns with variance < 2: 267 st\n",
      "Number of columns with variance < 2: 14944 st\n",
      "There are about 15000 columns below a variance of 2, so we will remove all columns below a variance of 2 later to get our refined dataset\n"
     ]
    }
   ],
   "source": [
    "contains_missing_values = workload_data.isna()\n",
    "columns_with_missing_values = 0\n",
    "for column_name in workload_data.columns: \n",
    "    if sum(contains_missing_values[column_name]) > 0:\n",
    "        columns_with_missing_values += 0\n",
    "print(f'Amount of columns with missing values: {columns_with_missing_values}')\n",
    "means = workload_data.mean()\n",
    "variances = workload_data.var()\n",
    "n_of_constant_values = variances[variances == 0]\n",
    "n_of_low_var_values = variances[variances < 2]\n",
    "print(f'Number of columns with variance = 0: {len(n_of_constant_values)} st')\n",
    "print(f'Number of columns with variance < 2: {len(n_of_low_var_values)} st')\n",
    "print(f'There are about 15000 columns below a variance of 2, so we will remove all columns below a variance of 2 later to get our refined dataset')"
   ]
  },
  {
   "cell_type": "code",
   "execution_count": 72,
   "metadata": {},
   "outputs": [
    {
     "name": "stdout",
     "output_type": "stream",
     "text": [
      "No missing values, all gene_values are numeric values\n",
      "Number of columns with variance < 2: 14944 st\n",
      "There are about 15000 columns below a variance of 2, so we will reduce all columns below a variance of 2 later to get our refined dataset\n"
     ]
    }
   ],
   "source": [
    "for column_name in workload_data.columns: \n",
    "    if sum(contains_missing_values[column_name]) > 0:\n",
    "        print(f'{column_name=}')\n",
    "print(f'No missing values, all gene_values are numeric values')\n",
    "means = workload_data.mean()\n",
    "variances = workload_data.var()\n",
    "variance_threshold = 2\n",
    "n_of_constant_values = variances[variances < variance_threshold]\n",
    "print(f'Number of columns with variance < 2: {len(n_of_constant_values)} st')\n",
    "print(f'There are about 15000 columns below a variance of 2, so we will reduce all columns below a variance of 2 later to get our refined dataset')"
   ]
  },
  {
   "cell_type": "code",
   "execution_count": 68,
   "metadata": {},
   "outputs": [
    {
     "data": {
      "image/png": "[encoded data removed]",
      "text/plain": [
       "<Figure size 432x288 with 2 Axes>"
      ]
     },
     "metadata": {
      "needs_background": "light"
     },
     "output_type": "display_data"
    },
    {
     "name": "stdout",
     "output_type": "stream",
     "text": [
      "They do vary quite widely yes\n"
     ]
    }
   ],
   "source": [
    "fig, (ax1, ax2) = plt.subplots(1, 2)\n",
    "fig.suptitle('Mean and variance for the dataset')\n",
    "ax1.hist(means, bins='auto', label='mean')\n",
    "ax2.hist(variances, bins='auto', label='variance', color='orange')\n",
    "ax1.legend()\n",
    "ax2.legend()\n",
    "plt.tight_layout()\n",
    "plt.show()\n",
    "print(f'They do vary quite widely yes')"
   ]
  },
  {
   "cell_type": "markdown",
   "metadata": {},
   "source": [
    "Q1.1 Task 2:"
   ]
  },
  {
   "cell_type": "code",
   "execution_count": 74,
   "metadata": {},
   "outputs": [
    {
     "name": "stdout",
     "output_type": "stream",
     "text": [
      "gene_0        0.018728\n",
      "gene_1        1.441987\n",
      "gene_2        1.135506\n",
      "gene_3        0.408089\n",
      "gene_4        0.256580\n",
      "                ...   \n",
      "gene_20526    0.449397\n",
      "gene_20527    0.337060\n",
      "gene_20528    0.317926\n",
      "gene_20529    4.300892\n",
      "gene_20530    0.132881\n",
      "Length: 20531, dtype: float64\n"
     ]
    },
    {
     "ename": "KeyboardInterrupt",
     "evalue": "",
     "output_type": "error",
     "traceback": [
      "\u001b[1;31m---------------------------------------------------------------------------\u001b[0m",
      "\u001b[1;31mKeyboardInterrupt\u001b[0m                         Traceback (most recent call last)",
      "\u001b[1;32m~\\AppData\\Local\\Temp/ipykernel_18568/4231801774.py\u001b[0m in \u001b[0;36m<module>\u001b[1;34m\u001b[0m\n\u001b[0;32m      4\u001b[0m \u001b[1;32mfor\u001b[0m \u001b[0mgene\u001b[0m\u001b[1;33m,\u001b[0m \u001b[0mvar_val\u001b[0m \u001b[1;32min\u001b[0m \u001b[0mzip\u001b[0m\u001b[1;33m(\u001b[0m\u001b[0mworkload_data\u001b[0m\u001b[1;33m.\u001b[0m\u001b[0mcolumns\u001b[0m\u001b[1;33m,\u001b[0m \u001b[0mvariances\u001b[0m\u001b[1;33m)\u001b[0m\u001b[1;33m:\u001b[0m\u001b[1;33m\u001b[0m\u001b[1;33m\u001b[0m\u001b[0m\n\u001b[0;32m      5\u001b[0m     \u001b[1;32mif\u001b[0m \u001b[0mvar_val\u001b[0m \u001b[1;33m<\u001b[0m \u001b[0mvariance_threshold\u001b[0m\u001b[1;33m:\u001b[0m\u001b[1;33m\u001b[0m\u001b[1;33m\u001b[0m\u001b[0m\n\u001b[1;32m----> 6\u001b[1;33m         \u001b[0mrefined_data\u001b[0m\u001b[1;33m.\u001b[0m\u001b[0mpop\u001b[0m\u001b[1;33m(\u001b[0m\u001b[0mgene\u001b[0m\u001b[1;33m)\u001b[0m\u001b[1;33m\u001b[0m\u001b[1;33m\u001b[0m\u001b[0m\n\u001b[0m\u001b[0;32m      7\u001b[0m \u001b[1;33m\u001b[0m\u001b[0m\n\u001b[0;32m      8\u001b[0m \u001b[1;33m\u001b[0m\u001b[0m\n",
      "\u001b[1;32mE:\\Users\\anton\\anaconda3\\lib\\site-packages\\pandas\\core\\frame.py\u001b[0m in \u001b[0;36mpop\u001b[1;34m(self, item)\u001b[0m\n\u001b[0;32m   5224\u001b[0m         \u001b[1;36m3\u001b[0m  \u001b[0mmonkey\u001b[0m        \u001b[0mNaN\u001b[0m\u001b[1;33m\u001b[0m\u001b[1;33m\u001b[0m\u001b[0m\n\u001b[0;32m   5225\u001b[0m         \"\"\"\n\u001b[1;32m-> 5226\u001b[1;33m         \u001b[1;32mreturn\u001b[0m \u001b[0msuper\u001b[0m\u001b[1;33m(\u001b[0m\u001b[1;33m)\u001b[0m\u001b[1;33m.\u001b[0m\u001b[0mpop\u001b[0m\u001b[1;33m(\u001b[0m\u001b[0mitem\u001b[0m\u001b[1;33m=\u001b[0m\u001b[0mitem\u001b[0m\u001b[1;33m)\u001b[0m\u001b[1;33m\u001b[0m\u001b[1;33m\u001b[0m\u001b[0m\n\u001b[0m\u001b[0;32m   5227\u001b[0m \u001b[1;33m\u001b[0m\u001b[0m\n\u001b[0;32m   5228\u001b[0m     \u001b[1;33m@\u001b[0m\u001b[0mdoc\u001b[0m\u001b[1;33m(\u001b[0m\u001b[0mNDFrame\u001b[0m\u001b[1;33m.\u001b[0m\u001b[0mreplace\u001b[0m\u001b[1;33m,\u001b[0m \u001b[1;33m**\u001b[0m\u001b[0m_shared_doc_kwargs\u001b[0m\u001b[1;33m)\u001b[0m\u001b[1;33m\u001b[0m\u001b[1;33m\u001b[0m\u001b[0m\n",
      "\u001b[1;32mE:\\Users\\anton\\anaconda3\\lib\\site-packages\\pandas\\core\\generic.py\u001b[0m in \u001b[0;36mpop\u001b[1;34m(self, item)\u001b[0m\n\u001b[0;32m    869\u001b[0m     \u001b[1;32mdef\u001b[0m \u001b[0mpop\u001b[0m\u001b[1;33m(\u001b[0m\u001b[0mself\u001b[0m\u001b[1;33m,\u001b[0m \u001b[0mitem\u001b[0m\u001b[1;33m:\u001b[0m \u001b[0mHashable\u001b[0m\u001b[1;33m)\u001b[0m \u001b[1;33m->\u001b[0m \u001b[0mSeries\u001b[0m \u001b[1;33m|\u001b[0m \u001b[0mAny\u001b[0m\u001b[1;33m:\u001b[0m\u001b[1;33m\u001b[0m\u001b[1;33m\u001b[0m\u001b[0m\n\u001b[0;32m    870\u001b[0m         \u001b[0mresult\u001b[0m \u001b[1;33m=\u001b[0m \u001b[0mself\u001b[0m\u001b[1;33m[\u001b[0m\u001b[0mitem\u001b[0m\u001b[1;33m]\u001b[0m\u001b[1;33m\u001b[0m\u001b[1;33m\u001b[0m\u001b[0m\n\u001b[1;32m--> 871\u001b[1;33m         \u001b[1;32mdel\u001b[0m \u001b[0mself\u001b[0m\u001b[1;33m[\u001b[0m\u001b[0mitem\u001b[0m\u001b[1;33m]\u001b[0m\u001b[1;33m\u001b[0m\u001b[1;33m\u001b[0m\u001b[0m\n\u001b[0m\u001b[0;32m    872\u001b[0m \u001b[1;33m\u001b[0m\u001b[0m\n\u001b[0;32m    873\u001b[0m         \u001b[1;32mreturn\u001b[0m \u001b[0mresult\u001b[0m\u001b[1;33m\u001b[0m\u001b[1;33m\u001b[0m\u001b[0m\n",
      "\u001b[1;32mE:\\Users\\anton\\anaconda3\\lib\\site-packages\\pandas\\core\\generic.py\u001b[0m in \u001b[0;36m__delitem__\u001b[1;34m(self, key)\u001b[0m\n\u001b[0;32m   3962\u001b[0m             \u001b[1;31m# exception:\u001b[0m\u001b[1;33m\u001b[0m\u001b[1;33m\u001b[0m\u001b[0m\n\u001b[0;32m   3963\u001b[0m             \u001b[0mloc\u001b[0m \u001b[1;33m=\u001b[0m \u001b[0mself\u001b[0m\u001b[1;33m.\u001b[0m\u001b[0maxes\u001b[0m\u001b[1;33m[\u001b[0m\u001b[1;33m-\u001b[0m\u001b[1;36m1\u001b[0m\u001b[1;33m]\u001b[0m\u001b[1;33m.\u001b[0m\u001b[0mget_loc\u001b[0m\u001b[1;33m(\u001b[0m\u001b[0mkey\u001b[0m\u001b[1;33m)\u001b[0m\u001b[1;33m\u001b[0m\u001b[1;33m\u001b[0m\u001b[0m\n\u001b[1;32m-> 3964\u001b[1;33m             \u001b[0mself\u001b[0m\u001b[1;33m.\u001b[0m\u001b[0m_mgr\u001b[0m \u001b[1;33m=\u001b[0m \u001b[0mself\u001b[0m\u001b[1;33m.\u001b[0m\u001b[0m_mgr\u001b[0m\u001b[1;33m.\u001b[0m\u001b[0midelete\u001b[0m\u001b[1;33m(\u001b[0m\u001b[0mloc\u001b[0m\u001b[1;33m)\u001b[0m\u001b[1;33m\u001b[0m\u001b[1;33m\u001b[0m\u001b[0m\n\u001b[0m\u001b[0;32m   3965\u001b[0m \u001b[1;33m\u001b[0m\u001b[0m\n\u001b[0;32m   3966\u001b[0m         \u001b[1;31m# delete from the caches\u001b[0m\u001b[1;33m\u001b[0m\u001b[1;33m\u001b[0m\u001b[0m\n",
      "\u001b[1;32mE:\\Users\\anton\\anaconda3\\lib\\site-packages\\pandas\\core\\internals\\managers.py\u001b[0m in \u001b[0;36midelete\u001b[1;34m(self, indexer)\u001b[0m\n\u001b[0;32m   1203\u001b[0m         \u001b[0mtaker\u001b[0m \u001b[1;33m=\u001b[0m \u001b[1;33m(\u001b[0m\u001b[1;33m~\u001b[0m\u001b[0mis_deleted\u001b[0m\u001b[1;33m)\u001b[0m\u001b[1;33m.\u001b[0m\u001b[0mnonzero\u001b[0m\u001b[1;33m(\u001b[0m\u001b[1;33m)\u001b[0m\u001b[1;33m[\u001b[0m\u001b[1;36m0\u001b[0m\u001b[1;33m]\u001b[0m\u001b[1;33m\u001b[0m\u001b[1;33m\u001b[0m\u001b[0m\n\u001b[0;32m   1204\u001b[0m \u001b[1;33m\u001b[0m\u001b[0m\n\u001b[1;32m-> 1205\u001b[1;33m         \u001b[0mnbs\u001b[0m \u001b[1;33m=\u001b[0m \u001b[0mself\u001b[0m\u001b[1;33m.\u001b[0m\u001b[0m_slice_take_blocks_ax0\u001b[0m\u001b[1;33m(\u001b[0m\u001b[0mtaker\u001b[0m\u001b[1;33m,\u001b[0m \u001b[0monly_slice\u001b[0m\u001b[1;33m=\u001b[0m\u001b[1;32mTrue\u001b[0m\u001b[1;33m)\u001b[0m\u001b[1;33m\u001b[0m\u001b[1;33m\u001b[0m\u001b[0m\n\u001b[0m\u001b[0;32m   1206\u001b[0m         \u001b[0mnew_columns\u001b[0m \u001b[1;33m=\u001b[0m \u001b[0mself\u001b[0m\u001b[1;33m.\u001b[0m\u001b[0mitems\u001b[0m\u001b[1;33m[\u001b[0m\u001b[1;33m~\u001b[0m\u001b[0mis_deleted\u001b[0m\u001b[1;33m]\u001b[0m\u001b[1;33m\u001b[0m\u001b[1;33m\u001b[0m\u001b[0m\n\u001b[0;32m   1207\u001b[0m         \u001b[0maxes\u001b[0m \u001b[1;33m=\u001b[0m \u001b[1;33m[\u001b[0m\u001b[0mnew_columns\u001b[0m\u001b[1;33m,\u001b[0m \u001b[0mself\u001b[0m\u001b[1;33m.\u001b[0m\u001b[0maxes\u001b[0m\u001b[1;33m[\u001b[0m\u001b[1;36m1\u001b[0m\u001b[1;33m]\u001b[0m\u001b[1;33m]\u001b[0m\u001b[1;33m\u001b[0m\u001b[1;33m\u001b[0m\u001b[0m\n",
      "\u001b[1;32mE:\\Users\\anton\\anaconda3\\lib\\site-packages\\pandas\\core\\internals\\managers.py\u001b[0m in \u001b[0;36m_slice_take_blocks_ax0\u001b[1;34m(self, slice_or_indexer, fill_value, only_slice)\u001b[0m\n\u001b[0;32m    776\u001b[0m         \u001b[0mgroup\u001b[0m \u001b[1;33m=\u001b[0m \u001b[1;32mnot\u001b[0m \u001b[0monly_slice\u001b[0m\u001b[1;33m\u001b[0m\u001b[1;33m\u001b[0m\u001b[0m\n\u001b[0;32m    777\u001b[0m         \u001b[1;32mfor\u001b[0m \u001b[0mblkno\u001b[0m\u001b[1;33m,\u001b[0m \u001b[0mmgr_locs\u001b[0m \u001b[1;32min\u001b[0m \u001b[0mlibinternals\u001b[0m\u001b[1;33m.\u001b[0m\u001b[0mget_blkno_placements\u001b[0m\u001b[1;33m(\u001b[0m\u001b[0mblknos\u001b[0m\u001b[1;33m,\u001b[0m \u001b[0mgroup\u001b[0m\u001b[1;33m=\u001b[0m\u001b[0mgroup\u001b[0m\u001b[1;33m)\u001b[0m\u001b[1;33m:\u001b[0m\u001b[1;33m\u001b[0m\u001b[1;33m\u001b[0m\u001b[0m\n\u001b[1;32m--> 778\u001b[1;33m             \u001b[1;32mif\u001b[0m \u001b[0mblkno\u001b[0m \u001b[1;33m==\u001b[0m \u001b[1;33m-\u001b[0m\u001b[1;36m1\u001b[0m\u001b[1;33m:\u001b[0m\u001b[1;33m\u001b[0m\u001b[1;33m\u001b[0m\u001b[0m\n\u001b[0m\u001b[0;32m    779\u001b[0m                 \u001b[1;31m# If we've got here, fill_value was not lib.no_default\u001b[0m\u001b[1;33m\u001b[0m\u001b[1;33m\u001b[0m\u001b[0m\n\u001b[0;32m    780\u001b[0m \u001b[1;33m\u001b[0m\u001b[0m\n",
      "\u001b[1;31mKeyboardInterrupt\u001b[0m: "
     ]
    }
   ],
   "source": [
    "refined_data = workload_data.copy()\n",
    "for gene, var_val in zip(workload_data.columns, variances):\n",
    "    if var_val < variance_threshold:\n",
    "        refined_data.pop(gene)\n",
    "\n",
    "\n",
    "        "
   ]
  },
  {
   "cell_type": "code",
   "execution_count": null,
   "metadata": {},
   "outputs": [],
   "source": [
    "print(refined_data.head())"
   ]
  }
 ],
 "metadata": {
  "interpreter": {
   "hash": "70e81fc290464c6c65ef58c418472f5440404716f7b8532bd6b6d391032f7564"
  },
  "kernelspec": {
   "display_name": "Python 3.9.7 ('base')",
   "language": "python",
   "name": "python3"
  },
  "language_info": {
   "codemirror_mode": {
    "name": "ipython",
    "version": 3
   },
   "file_extension": ".py",
   "mimetype": "text/x-python",
   "name": "python",
   "nbconvert_exporter": "python",
   "pygments_lexer": "ipython3",
   "version": "3.9.7"
  },
  "orig_nbformat": 4
 },
 "nbformat": 4,
 "nbformat_minor": 2
}
